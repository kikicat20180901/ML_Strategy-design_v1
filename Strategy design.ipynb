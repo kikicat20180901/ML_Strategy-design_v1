{
 "cells": [
  {
   "cell_type": "code",
   "execution_count": 1,
   "metadata": {},
   "outputs": [],
   "source": [
    "import pandas as pd\n",
    "import numpy as np"
   ]
  },
  {
   "cell_type": "code",
   "execution_count": 2,
   "metadata": {},
   "outputs": [],
   "source": [
    "df_raw = pd.read_csv('data.csv')"
   ]
  },
  {
   "cell_type": "code",
   "execution_count": 3,
   "metadata": {},
   "outputs": [
    {
     "data": {
      "text/html": [
       "<div>\n",
       "<style scoped>\n",
       "    .dataframe tbody tr th:only-of-type {\n",
       "        vertical-align: middle;\n",
       "    }\n",
       "\n",
       "    .dataframe tbody tr th {\n",
       "        vertical-align: top;\n",
       "    }\n",
       "\n",
       "    .dataframe thead th {\n",
       "        text-align: right;\n",
       "    }\n",
       "</style>\n",
       "<table border=\"1\" class=\"dataframe\">\n",
       "  <thead>\n",
       "    <tr style=\"text-align: right;\">\n",
       "      <th></th>\n",
       "      <th>last</th>\n",
       "      <th>volume</th>\n",
       "    </tr>\n",
       "  </thead>\n",
       "  <tbody>\n",
       "    <tr>\n",
       "      <th>count</th>\n",
       "      <td>451113.000000</td>\n",
       "      <td>4.511130e+05</td>\n",
       "    </tr>\n",
       "    <tr>\n",
       "      <th>mean</th>\n",
       "      <td>2751.772257</td>\n",
       "      <td>3.469636e+06</td>\n",
       "    </tr>\n",
       "    <tr>\n",
       "      <th>std</th>\n",
       "      <td>3988.203423</td>\n",
       "      <td>8.373189e+06</td>\n",
       "    </tr>\n",
       "    <tr>\n",
       "      <th>min</th>\n",
       "      <td>63.000000</td>\n",
       "      <td>0.000000e+00</td>\n",
       "    </tr>\n",
       "    <tr>\n",
       "      <th>25%</th>\n",
       "      <td>1099.145800</td>\n",
       "      <td>7.861000e+05</td>\n",
       "    </tr>\n",
       "    <tr>\n",
       "      <th>50%</th>\n",
       "      <td>1901.445100</td>\n",
       "      <td>1.614400e+06</td>\n",
       "    </tr>\n",
       "    <tr>\n",
       "      <th>75%</th>\n",
       "      <td>3169.704000</td>\n",
       "      <td>3.595100e+06</td>\n",
       "    </tr>\n",
       "    <tr>\n",
       "      <th>max</th>\n",
       "      <td>109550.000000</td>\n",
       "      <td>7.289341e+08</td>\n",
       "    </tr>\n",
       "  </tbody>\n",
       "</table>\n",
       "</div>"
      ],
      "text/plain": [
       "                last        volume\n",
       "count  451113.000000  4.511130e+05\n",
       "mean     2751.772257  3.469636e+06\n",
       "std      3988.203423  8.373189e+06\n",
       "min        63.000000  0.000000e+00\n",
       "25%      1099.145800  7.861000e+05\n",
       "50%      1901.445100  1.614400e+06\n",
       "75%      3169.704000  3.595100e+06\n",
       "max    109550.000000  7.289341e+08"
      ]
     },
     "execution_count": 3,
     "metadata": {},
     "output_type": "execute_result"
    }
   ],
   "source": [
    "df_raw.describe()"
   ]
  },
  {
   "cell_type": "markdown",
   "metadata": {},
   "source": [
    "# Generate features and returns of different time horizons"
   ]
  },
  {
   "cell_type": "code",
   "execution_count": 4,
   "metadata": {},
   "outputs": [
    {
     "name": "stderr",
     "output_type": "stream",
     "text": [
      "/anaconda3/anaconda3/lib/python3.6/site-packages/ipykernel_launcher.py:1: SettingWithCopyWarning: \n",
      "A value is trying to be set on a copy of a slice from a DataFrame.\n",
      "Try using .loc[row_indexer,col_indexer] = value instead\n",
      "\n",
      "See the caveats in the documentation: https://pandas.pydata.org/pandas-docs/stable/user_guide/indexing.html#returning-a-view-versus-a-copy\n",
      "  \"\"\"Entry point for launching an IPython kernel.\n"
     ]
    },
    {
     "name": "stdout",
     "output_type": "stream",
     "text": [
      "CPU times: user 13.4 s, sys: 369 ms, total: 13.7 s\n",
      "Wall time: 14.2 s\n"
     ]
    }
   ],
   "source": [
    "%%time\n",
    "ticker_list = df_raw['ticker'].unique().tolist()\n",
    "df_list = []\n",
    "for ticker in ticker_list:\n",
    "    df_ticker = df_raw[df_raw['ticker']==ticker]\n",
    "    df_ticker.set_index('date')\n",
    "    for d in [-1,-2,-3,-5,-10,-20,-30,-60,-120,-360,-720]: \n",
    "        exec('df_ticker[\"R_{}\"]=df_ticker[\"last\"].pct_change(periods={})'.format(-d,-d))\n",
    "        exec('df_ticker[\"V_{}\"]=df_ticker[\"volume\"].pct_change(periods={})'.format(-d,-d))\n",
    "    for d in [1,3,5,10]: \n",
    "        exec('df_ticker[\"Y_{}\"]=df_ticker[\"R_{}\"].shift(periods={})'.format(d,d,-d))\n",
    "\n",
    "    df_list.append(df_ticker.set_index('date'))\n",
    "    \n",
    "df = pd.concat(df_list)\n",
    "df.replace([np.inf, -np.inf], np.nan, inplace=True)\n",
    "df = df.dropna()"
   ]
  },
  {
   "cell_type": "markdown",
   "metadata": {},
   "source": [
    "# Generate labels of different time horizons and returns "
   ]
  },
  {
   "cell_type": "code",
   "execution_count": 5,
   "metadata": {},
   "outputs": [],
   "source": [
    "for d in [1,3,5,10]:\n",
    "    exec('y{} = df[\"Y_{}\"].tolist()'.format(d,d))\n",
    "    for r in [0.005, 0.01, 0.03]:\n",
    "        exec('df[\"Y_{}_{}\"] = [1 if yy > {} else 0 for yy in y{}]'.format(d,r,r,d))\n",
    "df.to_csv('df.csv')"
   ]
  },
  {
   "cell_type": "markdown",
   "metadata": {},
   "source": [
    "# Divide Train and Test Set"
   ]
  },
  {
   "cell_type": "code",
   "execution_count": 6,
   "metadata": {},
   "outputs": [],
   "source": [
    "df_train = df[df.index <= '2018-12-15']\n",
    "df_test = df[df.index > '2018-12-31']\n",
    "\n",
    "df_train.to_csv('train.csv')\n",
    "df_test.to_csv('test.csv')"
   ]
  },
  {
   "cell_type": "markdown",
   "metadata": {},
   "source": [
    "# Build Machine learning model to generate trading signals"
   ]
  },
  {
   "cell_type": "code",
   "execution_count": 7,
   "metadata": {},
   "outputs": [
    {
     "name": "stderr",
     "output_type": "stream",
     "text": [
      "/anaconda3/anaconda3/lib/python3.6/site-packages/sklearn/ensemble/weight_boosting.py:29: DeprecationWarning: numpy.core.umath_tests is an internal NumPy module and should not be imported. It will be removed in a future NumPy release.\n",
      "  from numpy.core.umath_tests import inner1d\n"
     ]
    }
   ],
   "source": [
    "import numpy as np\n",
    "import pandas as pd\n",
    "from sklearn.linear_model import LogisticRegression\n",
    "from sklearn.ensemble import RandomForestClassifier\n",
    "\n",
    "from sklearn.metrics import accuracy_score\n",
    "from sklearn.metrics import precision_score\n",
    "from sklearn.metrics import recall_score\n",
    "from sklearn.metrics import f1_score, precision_recall_fscore_support, classification_report"
   ]
  },
  {
   "cell_type": "code",
   "execution_count": 8,
   "metadata": {},
   "outputs": [
    {
     "name": "stderr",
     "output_type": "stream",
     "text": [
      "/anaconda3/anaconda3/lib/python3.6/site-packages/ipykernel_launcher.py:1: SettingWithCopyWarning: \n",
      "A value is trying to be set on a copy of a slice from a DataFrame.\n",
      "Try using .loc[row_indexer,col_indexer] = value instead\n",
      "\n",
      "See the caveats in the documentation: https://pandas.pydata.org/pandas-docs/stable/user_guide/indexing.html#returning-a-view-versus-a-copy\n",
      "  \"\"\"Entry point for launching an IPython kernel.\n"
     ]
    },
    {
     "name": "stdout",
     "output_type": "stream",
     "text": [
      "#################################\n",
      "For the Y_1_0.005 label with LogisticRegression model, performance metrics:\n",
      "accuracy: 0.518910982168129\n",
      "precision: 0.5047779384914519\n",
      "recall: 0.3885167813406822\n",
      "#################################\n",
      "#################################\n",
      "For the Y_1_0.01 label with LogisticRegression model, performance metrics:\n",
      "accuracy: 0.5581570195301444\n",
      "precision: 0.4919109878499736\n",
      "recall: 0.30121504963305906\n",
      "#################################\n",
      "#################################\n",
      "For the Y_1_0.03 label with LogisticRegression model, performance metrics:\n",
      "accuracy: 0.6703757429946221\n",
      "precision: 0.4962396265560166\n",
      "recall: 0.10285422489787142\n",
      "#################################\n",
      "#################################\n",
      "For the Y_3_0.005 label with LogisticRegression model, performance metrics:\n",
      "accuracy: 0.5042633739031984\n",
      "precision: 0.5539320407916482\n",
      "recall: 0.44765301801361607\n",
      "#################################\n",
      "#################################\n",
      "For the Y_3_0.01 label with LogisticRegression model, performance metrics:\n",
      "accuracy: 0.5202023775827909\n",
      "precision: 0.5180615680615681\n",
      "recall: 0.38641337495066913\n",
      "#################################\n",
      "#################################\n",
      "For the Y_3_0.03 label with LogisticRegression model, performance metrics:\n",
      "accuracy: 0.5851878714973111\n",
      "precision: 0.4983228511530398\n",
      "recall: 0.20301923857109302\n",
      "#################################\n",
      "#################################\n",
      "For the Y_5_0.005 label with LogisticRegression model, performance metrics:\n",
      "accuracy: 0.49981425134446644\n",
      "precision: 0.5513403954262114\n",
      "recall: 0.46567289523409616\n",
      "#################################\n",
      "#################################\n",
      "For the Y_5_0.01 label with LogisticRegression model, performance metrics:\n",
      "accuracy: 0.5067223322954996\n",
      "precision: 0.53667577058135\n",
      "recall: 0.41856572896943467\n",
      "#################################\n",
      "#################################\n",
      "For the Y_5_0.03 label with LogisticRegression model, performance metrics:\n",
      "accuracy: 0.5500548400792528\n",
      "precision: 0.5160668132546388\n",
      "recall: 0.2587520792232409\n",
      "#################################\n",
      "#################################\n",
      "For the Y_10_0.005 label with LogisticRegression model, performance metrics:\n",
      "accuracy: 0.5131350834984433\n",
      "precision: 0.5923163921679508\n",
      "recall: 0.5117955138874044\n",
      "#################################\n",
      "#################################\n",
      "For the Y_10_0.01 label with LogisticRegression model, performance metrics:\n",
      "accuracy: 0.51236555335409\n",
      "precision: 0.5904602735515598\n",
      "recall: 0.4761882629980789\n",
      "#################################\n",
      "#################################\n",
      "For the Y_10_0.03 label with LogisticRegression model, performance metrics:\n",
      "accuracy: 0.516142442683272\n",
      "precision: 0.5748855279589288\n",
      "recall: 0.34469217970049915\n",
      "#################################\n"
     ]
    }
   ],
   "source": [
    "feature_list = []\n",
    "for d in [-1,-2,-3,-5,-10,-20,-30,-60,-120,-360,-720]:\n",
    "    feature_list.append('R_{}'.format(-d))\n",
    "    feature_list.append('V_{}'.format(-d))\n",
    "\n",
    "x_train = np.array(df_train[feature_list])\n",
    "x_test = np.array(df_test[feature_list])\n",
    "\n",
    "for d in [1,3,5,10]:\n",
    "    for r in [0.005, 0.01, 0.03]:\n",
    "        exec('clf = LogisticRegression(random_state=0,class_weight=\"balanced\").fit(x_train, df_train[\"Y_{}_{}\"])'.format(d,r))\n",
    "        predict = clf.predict(x_test)\n",
    "        predict_score = clf.predict_proba(x_test)\n",
    "        #print(predict_score[:,1])\n",
    "        exec('df_test[\"predict_Y_{}_{}\"] = predict_score[:,1]'.format(d,r))\n",
    "        exec('accuracy = accuracy_score(predict,df_test[\"Y_{}_{}\"])'.format(d,r))\n",
    "        exec('precision = precision_score(predict,df_test[\"Y_{}_{}\"])'.format(d,r))\n",
    "        exec('recall = recall_score(predict,df_test[\"Y_{}_{}\"])'.format(d,r))\n",
    "        print('#################################')\n",
    "        print(f\"For the Y_{d}_{r} label with LogisticRegression model, performance metrics:\")\n",
    "        print(f\"accuracy: {accuracy}\")\n",
    "        print(f\"precision: {precision}\")\n",
    "        print(f\"recall: {recall}\")\n",
    "        print('#################################')\n",
    "df_test.to_csv('test.csv')"
   ]
  },
  {
   "cell_type": "markdown",
   "metadata": {},
   "source": [
    "For the Y_10_0.005 label with LogisticRegression model, performance metrics:\n",
    "accuracy: 0.5131350834984433\n",
    "precision: 0.5923163921679508\n",
    "recall: 0.5117955138874044"
   ]
  },
  {
   "cell_type": "markdown",
   "metadata": {},
   "source": [
    "## Y_10_0.005 obtains the best model performance and design strategy accordingly "
   ]
  },
  {
   "cell_type": "markdown",
   "metadata": {},
   "source": [
    "# Backtest Strategy Description\n",
    "## Buy at least one stock with the highest prediction score\n",
    "## Hold ten days and re-select the new stock every 10 days"
   ]
  },
  {
   "cell_type": "code",
   "execution_count": 9,
   "metadata": {},
   "outputs": [],
   "source": [
    "r_list = []\n",
    "stock_list = []\n",
    "date_list = []\n",
    "COMM = 0.001\n",
    "df = pd.read_csv('test.csv')"
   ]
  },
  {
   "cell_type": "code",
   "execution_count": 10,
   "metadata": {},
   "outputs": [
    {
     "name": "stdout",
     "output_type": "stream",
     "text": [
      "CPU times: user 444 ms, sys: 6.8 ms, total: 451 ms\n",
      "Wall time: 453 ms\n"
     ]
    }
   ],
   "source": [
    "%%time\n",
    "date_test = df['date'].unique().tolist()\n",
    "\n",
    "for i in range(0,len(date_test),10):\n",
    "    date = date_test[i]\n",
    "    df1 = df[df['date']==date]\n",
    "    max_predict = df1['predict_Y_10_0.005'].max()\n",
    "    ticker = df1[df1['predict_Y_10_0.005'] == max_predict]['ticker'].tolist()[0]\n",
    "    r = df1[df1['predict_Y_10_0.005'] == max_predict]['Y_10'].tolist()[0] - 2*COMM\n",
    "    r_list.append(r)\n",
    "    stock_list.append(ticker)\n",
    "    date_list.append(date)"
   ]
  },
  {
   "cell_type": "code",
   "execution_count": 11,
   "metadata": {},
   "outputs": [],
   "source": [
    "result = pd.DataFrame(columns = ['date','hold_stock', 'real_return','Cumulative_return'])\n",
    "result['date'] = date_list\n",
    "result['hold_stock'] = stock_list\n",
    "result['real_return'] = [0]+r_list[:-1]\n",
    "result['Cumulative_return'] = result['real_return'].add(1).cumprod().fillna(1)  \n",
    "result.to_csv('backtest_result.csv')"
   ]
  }
 ],
 "metadata": {
  "kernelspec": {
   "display_name": "Python 3",
   "language": "python",
   "name": "python3"
  },
  "language_info": {
   "codemirror_mode": {
    "name": "ipython",
    "version": 3
   },
   "file_extension": ".py",
   "mimetype": "text/x-python",
   "name": "python",
   "nbconvert_exporter": "python",
   "pygments_lexer": "ipython3",
   "version": "3.6.5"
  }
 },
 "nbformat": 4,
 "nbformat_minor": 2
}
