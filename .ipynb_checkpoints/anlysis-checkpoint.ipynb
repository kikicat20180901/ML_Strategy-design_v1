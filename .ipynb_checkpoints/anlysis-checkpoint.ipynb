{
 "cells": [
  {
   "cell_type": "code",
   "execution_count": 110,
   "metadata": {},
   "outputs": [],
   "source": [
    "import pandas as pd"
   ]
  },
  {
   "cell_type": "code",
   "execution_count": 111,
   "metadata": {},
   "outputs": [],
   "source": [
    "df_raw = pd.read_csv('data.csv')"
   ]
  },
  {
   "cell_type": "code",
   "execution_count": 112,
   "metadata": {},
   "outputs": [
    {
     "data": {
      "text/html": [
       "<div>\n",
       "<style scoped>\n",
       "    .dataframe tbody tr th:only-of-type {\n",
       "        vertical-align: middle;\n",
       "    }\n",
       "\n",
       "    .dataframe tbody tr th {\n",
       "        vertical-align: top;\n",
       "    }\n",
       "\n",
       "    .dataframe thead th {\n",
       "        text-align: right;\n",
       "    }\n",
       "</style>\n",
       "<table border=\"1\" class=\"dataframe\">\n",
       "  <thead>\n",
       "    <tr style=\"text-align: right;\">\n",
       "      <th></th>\n",
       "      <th>last</th>\n",
       "      <th>volume</th>\n",
       "    </tr>\n",
       "  </thead>\n",
       "  <tbody>\n",
       "    <tr>\n",
       "      <th>count</th>\n",
       "      <td>451113.000000</td>\n",
       "      <td>4.511130e+05</td>\n",
       "    </tr>\n",
       "    <tr>\n",
       "      <th>mean</th>\n",
       "      <td>2751.772257</td>\n",
       "      <td>3.469636e+06</td>\n",
       "    </tr>\n",
       "    <tr>\n",
       "      <th>std</th>\n",
       "      <td>3988.203423</td>\n",
       "      <td>8.373189e+06</td>\n",
       "    </tr>\n",
       "    <tr>\n",
       "      <th>min</th>\n",
       "      <td>63.000000</td>\n",
       "      <td>0.000000e+00</td>\n",
       "    </tr>\n",
       "    <tr>\n",
       "      <th>25%</th>\n",
       "      <td>1099.145800</td>\n",
       "      <td>7.861000e+05</td>\n",
       "    </tr>\n",
       "    <tr>\n",
       "      <th>50%</th>\n",
       "      <td>1901.445100</td>\n",
       "      <td>1.614400e+06</td>\n",
       "    </tr>\n",
       "    <tr>\n",
       "      <th>75%</th>\n",
       "      <td>3169.704000</td>\n",
       "      <td>3.595100e+06</td>\n",
       "    </tr>\n",
       "    <tr>\n",
       "      <th>max</th>\n",
       "      <td>109550.000000</td>\n",
       "      <td>7.289341e+08</td>\n",
       "    </tr>\n",
       "  </tbody>\n",
       "</table>\n",
       "</div>"
      ],
      "text/plain": [
       "                last        volume\n",
       "count  451113.000000  4.511130e+05\n",
       "mean     2751.772257  3.469636e+06\n",
       "std      3988.203423  8.373189e+06\n",
       "min        63.000000  0.000000e+00\n",
       "25%      1099.145800  7.861000e+05\n",
       "50%      1901.445100  1.614400e+06\n",
       "75%      3169.704000  3.595100e+06\n",
       "max    109550.000000  7.289341e+08"
      ]
     },
     "execution_count": 112,
     "metadata": {},
     "output_type": "execute_result"
    }
   ],
   "source": [
    "df_raw.describe()"
   ]
  },
  {
   "cell_type": "code",
   "execution_count": 113,
   "metadata": {},
   "outputs": [],
   "source": [
    "ticker_list = df_raw['ticker'].unique().tolist()"
   ]
  },
  {
   "cell_type": "code",
   "execution_count": 116,
   "metadata": {},
   "outputs": [
    {
     "name": "stderr",
     "output_type": "stream",
     "text": [
      "/anaconda3/anaconda3/lib/python3.6/site-packages/ipykernel_launcher.py:1: SettingWithCopyWarning: \n",
      "A value is trying to be set on a copy of a slice from a DataFrame.\n",
      "Try using .loc[row_indexer,col_indexer] = value instead\n",
      "\n",
      "See the caveats in the documentation: https://pandas.pydata.org/pandas-docs/stable/user_guide/indexing.html#returning-a-view-versus-a-copy\n",
      "  \"\"\"Entry point for launching an IPython kernel.\n"
     ]
    },
    {
     "name": "stdout",
     "output_type": "stream",
     "text": [
      "CPU times: user 11.6 s, sys: 127 ms, total: 11.7 s\n",
      "Wall time: 11.8 s\n"
     ]
    }
   ],
   "source": [
    "%%time\n",
    "\n",
    "df_list = []\n",
    "for ticker in ticker_list:\n",
    "    df_ticker = df_raw[df_raw['ticker']==ticker]\n",
    "    df_ticker.set_index('date')\n",
    "    for d in [-1,-2,-3,-5,-10,-20,-30,-60,-120,-360,-720]: \n",
    "        exec('df_ticker[\"R_{}\"]=df_ticker[\"last\"].pct_change(periods={})'.format(-d,-d))\n",
    "        exec('df_ticker[\"V_{}\"]=df_ticker[\"volume\"].pct_change(periods={})'.format(-d,-d))\n",
    "    for d in [1,3,5,10]: \n",
    "        exec('df_ticker[\"Y_{}\"]=df_ticker[\"R_{}\"].shift(periods={})'.format(d,d,-d))\n",
    "\n",
    "    df_list.append(df_ticker.set_index('date'))"
   ]
  },
  {
   "cell_type": "code",
   "execution_count": 117,
   "metadata": {},
   "outputs": [],
   "source": [
    "df = pd.concat(df_list)\n",
    "df = df.dropna()"
   ]
  },
  {
   "cell_type": "code",
   "execution_count": 118,
   "metadata": {},
   "outputs": [],
   "source": [
    "for d in [1,3,5,10]:\n",
    "    exec('y{} = df[\"Y_{}\"].tolist()'.format(d,d))\n",
    "    for r in [0.005, 0.01, 0.03]:\n",
    "        exec('df[\"Y_{}_{}\"] = [1 if yy > {} else 0 for yy in y{}]'.format(d,r,r,d))\n",
    "df.to_csv('df.csv')"
   ]
  },
  {
   "cell_type": "code",
   "execution_count": 121,
   "metadata": {},
   "outputs": [],
   "source": [
    "df_train = df[df.index <= '2017-12-15']\n",
    "df_validate = df[(df.index > '2017-12-31') & (df.index <= '2019-12.15')]\n",
    "df_test = df[df.index > '2019-12-31']\n",
    "\n",
    "df_train.to_csv('train.csv')\n",
    "df_validate.to_csv('validate.csv')\n",
    "df_test.to_csv('test.csv')"
   ]
  },
  {
   "cell_type": "code",
   "execution_count": 103,
   "metadata": {},
   "outputs": [
    {
     "name": "stderr",
     "output_type": "stream",
     "text": [
      "/anaconda3/anaconda3/lib/python3.6/site-packages/sklearn/ensemble/weight_boosting.py:29: DeprecationWarning: numpy.core.umath_tests is an internal NumPy module and should not be imported. It will be removed in a future NumPy release.\n",
      "  from numpy.core.umath_tests import inner1d\n"
     ]
    }
   ],
   "source": [
    "import numpy as np\n",
    "import pandas as pd\n",
    "from sklearn.linear_model import LogisticRegression\n",
    "from sklearn.ensemble import RandomForestClassifier\n",
    "\n",
    "from sklearn.metrics import accuracy_score\n",
    "from sklearn.metrics import precision_score\n",
    "from sklearn.metrics import recall_score\n",
    "from sklearn.metrics import f1_score, precision_recall_fscore_support, classification_report"
   ]
  },
  {
   "cell_type": "code",
   "execution_count": null,
   "metadata": {},
   "outputs": [],
   "source": []
  },
  {
   "cell_type": "code",
   "execution_count": null,
   "metadata": {},
   "outputs": [],
   "source": [
    "#####LogisticRegression####0.005 不含spxl的feature进行fit\n",
    "\n",
    "\n",
    "x_train = np.array(df[['R_1','R_2','R_3','R_5','R_10','R_20','R_30','R_60','R_120']][:70266])\n",
    "x_test =np.array(df[['R_1','R_2','R_3','R_5','R_10','R_20','R_30','R_60','R_120','R_360','R_720']][70266:])\n",
    "\n",
    "\n",
    "res_score_005 = []\n",
    "res_accuracy_score_005 = []\n",
    "res_precision_score_005= []\n",
    "res_recall_score_005 = []\n",
    "positive_ratio_005 = []\n",
    "\n",
    "res_score_005_train = []\n",
    "res_accuracy_score_005_train = []\n",
    "res_precision_score_005_train= []\n",
    "res_recall_score_005_train = []\n",
    "positive_ratio_005_train = []\n",
    "res_005_classification_report = []\n",
    "for y in ['Y1_005', 'Y2_005', 'Y3_005', 'Y5_005', 'Y10_005']:\n",
    "    clf = LogisticRegression(random_state=0,class_weight='balanced').fit(x_train, df[y][:70266])\n",
    "    predict = clf.predict(x_test)\n",
    "    res_score_005.append(clf.score(x_test, df[y][70266:]))\n",
    "    res_accuracy_score_005.append(accuracy_score(predict,df[y][70266:]))\n",
    "    res_precision_score_005.append(precision_score(predict,df[y][70266:]))\n",
    "    res_recall_score_005.append(recall_score(predict,df[y][70266:]))\n",
    "    percent = len(df[y][70266:][df[y][70266:]==1])/len(df[y][70266:])\n",
    "    positive_ratio_005.append(percent)\n",
    "    res_005_classification_report.append(classification_report(df[y][70266:],predict))\n",
    "    \n",
    "    \n",
    "    predict_train = clf.predict(x_train)\n",
    "    res_score_005_train.append(clf.score(x_train, df[y][:70266]))\n",
    "    res_accuracy_score_005_train.append(accuracy_score(predict_train,df[y][:70266]))\n",
    "    res_precision_score_005_train.append(precision_score(predict_train,df[y][:70266]))\n",
    "    res_recall_score_005_train.append(recall_score(predict_train,df[y][:70266]))\n",
    "    percent_train = len(df[y][:70266][df[y][:70266]==1])/len(df[y][:70266])\n",
    "    positive_ratio_005_train.append(percent_train)\n",
    "print('accuracy_score_005:{}'.format(res_accuracy_score_005))\n",
    "print('precision_score_005:{}'.format(res_precision_score_005))\n",
    "print('recall_score_005:{}'.format(res_recall_score_005))\n",
    "print('positive_ratio_005:{}'.format(positive_ratio_005))\n",
    "print('classification_report_005:{}'.format(res_005_classification_report[0]))\n",
    "\n",
    "\n",
    "print('accuracy_score_005_train:{}'.format(res_accuracy_score_005_train))\n",
    "print('precision_score_005_train:{}'.format(res_precision_score_005_train))\n",
    "print('recall_score_005_train:{}'.format(res_recall_score_005_train))\n",
    "print('positive_ratio_005_train:{}'.format(positive_ratio_005_train))\n"
   ]
  }
 ],
 "metadata": {
  "kernelspec": {
   "display_name": "Python 3",
   "language": "python",
   "name": "python3"
  },
  "language_info": {
   "codemirror_mode": {
    "name": "ipython",
    "version": 3
   },
   "file_extension": ".py",
   "mimetype": "text/x-python",
   "name": "python",
   "nbconvert_exporter": "python",
   "pygments_lexer": "ipython3",
   "version": "3.6.5"
  }
 },
 "nbformat": 4,
 "nbformat_minor": 2
}
